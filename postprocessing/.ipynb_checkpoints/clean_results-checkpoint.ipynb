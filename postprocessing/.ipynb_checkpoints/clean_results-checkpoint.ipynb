{
 "cells": [
  {
   "cell_type": "code",
   "execution_count": 1,
   "metadata": {},
   "outputs": [
    {
     "data": {
      "text/plain": [
       "['EPOCHS100_ATTENTION_categorical_crossentropy_esFalse_augFalse',\n",
       " 'EPOCHS100_RESIDUAL_categorical_crossentropy_esFalse_augFalse',\n",
       " 'EPOCHS100_UNET_categorical_crossentropy_esFalse_augFalse']"
      ]
     },
     "execution_count": 1,
     "metadata": {},
     "output_type": "execute_result"
    }
   ],
   "source": [
    "import pandas as pd\n",
    "import numpy as np\n",
    "import os\n",
    "from tqdm import tqdm\n",
    "\n",
    "src_dir = \"../results/\"\n",
    "runs = [x for x in os.listdir(src_dir) if \"EPOCHS100\" in x]\n",
    "runs"
   ]
  },
  {
   "cell_type": "code",
   "execution_count": 11,
   "metadata": {},
   "outputs": [],
   "source": [
    "def save_df(df, src_dir):\n",
    "    # Save the DataFrame to a CSV file\n",
    "    df.to_csv(os.path.join(src_dir, \"LOOCV.csv\"), index=False)\n",
    "    \n",
    "def compile_csvfiles(csv_dir):\n",
    "    df = pd.DataFrame()\n",
    "    for i in range(65):\n",
    "        # Read the CSV file into a temporary dataframe\n",
    "        csvfile = os.path.join(csv_dir, f'{i}_slice.csv')\n",
    "        temp_df = pd.read_csv(csvfile)\n",
    "        # Append the temporary dataframe to the main dataframe\n",
    "        df = pd.concat([df, temp_df], ignore_index=True)\n",
    "        os.remove(csvfile) # clean folder when finished\n",
    "    save_df(df, csv_dir)\n",
    "    return df\n",
    "\n",
    "def get_summary(df, col):\n",
    "    scores = list(df[col])  # get cave\n",
    "    mean = sum(scores) / len(scores) \n",
    "    variance = sum([((x - mean) ** 2) for x in scores]) / len(scores) \n",
    "    stdev = variance ** 0.5\n",
    "    return round(mean, 2), round(stdev, 2)"
   ]
  },
  {
   "cell_type": "code",
   "execution_count": 12,
   "metadata": {},
   "outputs": [],
   "source": [
    "def main():\n",
    "    # Get averages for each column\n",
    "    averages = {}\n",
    "    for run in tqdm(runs): # iterate through every run completed\n",
    "        csv_dir = os.path.join(src_dir, run)\n",
    "        df = compile_csvfiles(csv_dir)\n",
    "        with open(os.path.join(csv_dir, \"summary.txt\"), \"w\") as file: # save summary of results\n",
    "            for col in list(df.columns):\n",
    "                mean, stdev = get_summary(df)\n",
    "                # Write to the file\n",
    "                file.write(f\"AVERAGE {col.upper()}: {mean} || STDEV: {stdev}\\n\")\n",
    "                file.write(\"\\n\")"
   ]
  },
  {
   "cell_type": "code",
   "execution_count": null,
   "metadata": {},
   "outputs": [],
   "source": [
    "# main()"
   ]
  },
  {
   "cell_type": "markdown",
   "metadata": {},
   "source": [
    "## Fixing mistakes"
   ]
  },
  {
   "cell_type": "code",
   "execution_count": 14,
   "metadata": {},
   "outputs": [],
   "source": [
    "def correction(src_dir):\n",
    "    runs = [x for x in os.listdir(src_dir) if \"EPOCHS100\" in x]\n",
    "    # Get averages for each column\n",
    "    averages = {}\n",
    "    for run in tqdm(runs): # iterate through every run completed\n",
    "        csv_dir = os.path.join(src_dir, run)\n",
    "        df = pd.DataFrame(pd.read_csv(os.path.join(csv_dir, \"LOOCV.csv\")))\n",
    "        with open(os.path.join(csv_dir, \"summary.txt\"), \"w\") as file: # save summary of results\n",
    "            for col in list(df.columns):\n",
    "                mean, stdev = get_summary(df, col)\n",
    "                # Write to the file\n",
    "                file.write(f\"AVERAGE {col.upper()}: {mean} || STDEV: {stdev}\\n\")\n",
    "                file.write(\"\\n\")"
   ]
  },
  {
   "cell_type": "code",
   "execution_count": 15,
   "metadata": {},
   "outputs": [
    {
     "name": "stderr",
     "output_type": "stream",
     "text": [
      "100%|██████████| 3/3 [00:00<00:00, 257.04it/s]\n"
     ]
    }
   ],
   "source": [
    "correction(\"../results\")"
   ]
  },
  {
   "cell_type": "code",
   "execution_count": null,
   "metadata": {},
   "outputs": [],
   "source": []
  }
 ],
 "metadata": {
  "kernelspec": {
   "display_name": "Tensorflow 2.16.1",
   "language": "python",
   "name": "tensorflow2.16.1"
  },
  "language_info": {
   "codemirror_mode": {
    "name": "ipython",
    "version": 3
   },
   "file_extension": ".py",
   "mimetype": "text/x-python",
   "name": "python",
   "nbconvert_exporter": "python",
   "pygments_lexer": "ipython3",
   "version": "3.11.9"
  }
 },
 "nbformat": 4,
 "nbformat_minor": 4
}
